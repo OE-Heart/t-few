{
 "cells": [
  {
   "cell_type": "code",
   "execution_count": 1,
   "metadata": {},
   "outputs": [],
   "source": [
    "import numpy as np\n",
    "import pandas as pd\n",
    "from datasets import load_dataset\n",
    "from icecream import ic\n",
    "from tqdm import tqdm"
   ]
  },
  {
   "cell_type": "code",
   "execution_count": 2,
   "metadata": {},
   "outputs": [
    {
     "name": "stderr",
     "output_type": "stream",
     "text": [
      "  0%|          | 0/11 [00:00<?, ?it/s]Reusing dataset raft (/home/ouyixin/.cache/huggingface/datasets/ought___raft/ade_corpus_v2/1.1.0/79c4de1312c1e3730043f7db07179c914f48403101f7124e2fe336f6f54d9f84)\n",
      "  9%|▉         | 1/11 [00:13<02:18, 13.83s/it]Reusing dataset raft (/home/ouyixin/.cache/huggingface/datasets/ought___raft/terms_of_service/1.1.0/79c4de1312c1e3730043f7db07179c914f48403101f7124e2fe336f6f54d9f84)\n",
      " 18%|█▊        | 2/11 [00:17<01:10,  7.88s/it]Reusing dataset raft (/home/ouyixin/.cache/huggingface/datasets/ought___raft/tai_safety_research/1.1.0/79c4de1312c1e3730043f7db07179c914f48403101f7124e2fe336f6f54d9f84)\n",
      " 27%|██▋       | 3/11 [00:21<00:47,  5.91s/it]Reusing dataset raft (/home/ouyixin/.cache/huggingface/datasets/ought___raft/neurips_impact_statement_risks/1.1.0/79c4de1312c1e3730043f7db07179c914f48403101f7124e2fe336f6f54d9f84)\n",
      " 36%|███▋      | 4/11 [00:34<01:01,  8.73s/it]Reusing dataset raft (/home/ouyixin/.cache/huggingface/datasets/ought___raft/overruling/1.1.0/79c4de1312c1e3730043f7db07179c914f48403101f7124e2fe336f6f54d9f84)\n",
      " 45%|████▌     | 5/11 [00:49<01:05, 11.00s/it]Reusing dataset raft (/home/ouyixin/.cache/huggingface/datasets/ought___raft/systematic_review_inclusion/1.1.0/79c4de1312c1e3730043f7db07179c914f48403101f7124e2fe336f6f54d9f84)\n",
      " 55%|█████▍    | 6/11 [01:02<00:59, 11.89s/it]Reusing dataset raft (/home/ouyixin/.cache/huggingface/datasets/ought___raft/one_stop_english/1.1.0/79c4de1312c1e3730043f7db07179c914f48403101f7124e2fe336f6f54d9f84)\n",
      " 64%|██████▎   | 7/11 [01:11<00:43, 10.87s/it]Reusing dataset raft (/home/ouyixin/.cache/huggingface/datasets/ought___raft/tweet_eval_hate/1.1.0/79c4de1312c1e3730043f7db07179c914f48403101f7124e2fe336f6f54d9f84)\n",
      " 73%|███████▎  | 8/11 [01:25<00:35, 11.87s/it]Reusing dataset raft (/home/ouyixin/.cache/huggingface/datasets/ought___raft/twitter_complaints/1.1.0/79c4de1312c1e3730043f7db07179c914f48403101f7124e2fe336f6f54d9f84)\n",
      " 82%|████████▏ | 9/11 [01:29<00:19,  9.52s/it]Reusing dataset raft (/home/ouyixin/.cache/huggingface/datasets/ought___raft/semiconductor_org_types/1.1.0/79c4de1312c1e3730043f7db07179c914f48403101f7124e2fe336f6f54d9f84)\n",
      " 91%|█████████ | 10/11 [01:47<00:12, 12.11s/it]Reusing dataset raft (/home/ouyixin/.cache/huggingface/datasets/ought___raft/banking_77/1.1.0/79c4de1312c1e3730043f7db07179c914f48403101f7124e2fe336f6f54d9f84)\n",
      "100%|██████████| 11/11 [02:00<00:00, 10.95s/it]\n"
     ]
    }
   ],
   "source": [
    "dataset = {}\n",
    "dataset_label_cnt = {}\n",
    "for dataset_name in tqdm([\"ade_corpus_v2\", \"terms_of_service\", \"tai_safety_research\", \"neurips_impact_statement_risks\", \"overruling\", \"systematic_review_inclusion\", \"one_stop_english\", \"tweet_eval_hate\", \"twitter_complaints\", \"semiconductor_org_types\", \"banking_77\"]):\n",
    "    dataset[dataset_name] = load_dataset(\"ought/raft\", name=dataset_name, split=\"train\")\n",
    "    label_cnt = {}\n",
    "    for label in dataset[dataset_name]['Label']:\n",
    "        if label in label_cnt:\n",
    "            label_cnt[label] += 1\n",
    "        else:\n",
    "            label_cnt[label] = 1\n",
    "    dataset_label_cnt[dataset_name] = label_cnt.copy()"
   ]
  },
  {
   "cell_type": "code",
   "execution_count": 11,
   "metadata": {},
   "outputs": [
    {
     "name": "stdout",
     "output_type": "stream",
     "text": [
      "ade_corpus_v2 {2: 35, 1: 15}\n",
      "terms_of_service {2: 9, 1: 41}\n",
      "tai_safety_research {1: 28, 2: 22}\n",
      "neurips_impact_statement_risks {1: 27, 2: 23}\n",
      "overruling {2: 25, 1: 25}\n",
      "systematic_review_inclusion {2: 49, 1: 1}\n",
      "one_stop_english {3: 12, 1: 18, 2: 20}\n",
      "tweet_eval_hate {2: 29, 1: 21}\n",
      "twitter_complaints {2: 33, 1: 17}\n",
      "semiconductor_org_types {3: 6, 1: 38, 2: 6}\n",
      "banking_77 {23: 1, 27: 2, 60: 3, 17: 2, 7: 2, 29: 2, 36: 2, 54: 1, 9: 1, 19: 1, 58: 1, 61: 1, 26: 2, 8: 1, 70: 1, 14: 2, 6: 2, 41: 1, 75: 1, 55: 1, 77: 2, 49: 1, 21: 1, 50: 2, 34: 1, 31: 1, 15: 1, 47: 1, 22: 1, 53: 1, 13: 2, 40: 1, 74: 1, 30: 1, 32: 1, 71: 1, 76: 1}\n"
     ]
    }
   ],
   "source": [
    "for dataset_name, label_cnt in dataset_label_cnt.items():\n",
    "    print(dataset_name, label_cnt)"
   ]
  }
 ],
 "metadata": {
  "interpreter": {
   "hash": "a8e7157e33b0ad60b4801f266216f54182dcfd50e51cf5988780b85e34179571"
  },
  "kernelspec": {
   "display_name": "Python 3.7.0 ('tfew')",
   "language": "python",
   "name": "python3"
  },
  "language_info": {
   "codemirror_mode": {
    "name": "ipython",
    "version": 3
   },
   "file_extension": ".py",
   "mimetype": "text/x-python",
   "name": "python",
   "nbconvert_exporter": "python",
   "pygments_lexer": "ipython3",
   "version": "3.7.0"
  },
  "orig_nbformat": 4
 },
 "nbformat": 4,
 "nbformat_minor": 2
}
